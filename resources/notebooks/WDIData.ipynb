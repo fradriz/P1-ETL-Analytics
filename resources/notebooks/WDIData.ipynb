{
 "cells": [
  {
   "cell_type": "markdown",
   "id": "d1d4784d-8b82-4841-8759-24240e94a1d0",
   "metadata": {},
   "source": [
    "# Exploring the World Bank Data\n",
    "Data can be found in [here](https://datacatalog.worldbank.org/search/dataset/0037712/World-Development-Indicators)"
   ]
  },
  {
   "cell_type": "code",
   "execution_count": 1,
   "id": "18525e14-dd30-4a09-9cf1-673467eaa18d",
   "metadata": {},
   "outputs": [
    {
     "data": {
      "text/html": [
       "\n",
       "            <div>\n",
       "                <p><b>SparkSession - in-memory</b></p>\n",
       "                \n",
       "        <div>\n",
       "            <p><b>SparkContext</b></p>\n",
       "\n",
       "            <p><a href=\"http://192.168.0.2:4040\">Spark UI</a></p>\n",
       "\n",
       "            <dl>\n",
       "              <dt>Version</dt>\n",
       "                <dd><code>v3.5.0</code></dd>\n",
       "              <dt>Master</dt>\n",
       "                <dd><code>local[*]</code></dd>\n",
       "              <dt>AppName</dt>\n",
       "                <dd><code>Explore</code></dd>\n",
       "            </dl>\n",
       "        </div>\n",
       "        \n",
       "            </div>\n",
       "        "
      ],
      "text/plain": [
       "<pyspark.sql.session.SparkSession at 0x10b86bcd0>"
      ]
     },
     "execution_count": 1,
     "metadata": {},
     "output_type": "execute_result"
    }
   ],
   "source": [
    "from pyspark.sql import SparkSession\n",
    "\n",
    "spark = SparkSession.builder.appName(\"Explore\").getOrCreate()\n",
    "spark"
   ]
  },
  {
   "cell_type": "code",
   "execution_count": 124,
   "id": "1c4b7e84-7a4e-4d66-a85d-e11c9307d450",
   "metadata": {},
   "outputs": [
    {
     "data": {
      "text/html": [
       "<div>\n",
       "<style scoped>\n",
       "    .dataframe tbody tr th:only-of-type {\n",
       "        vertical-align: middle;\n",
       "    }\n",
       "\n",
       "    .dataframe tbody tr th {\n",
       "        vertical-align: top;\n",
       "    }\n",
       "\n",
       "    .dataframe thead th {\n",
       "        text-align: right;\n",
       "    }\n",
       "</style>\n",
       "<table border=\"1\" class=\"dataframe\">\n",
       "  <thead>\n",
       "    <tr style=\"text-align: right;\">\n",
       "      <th></th>\n",
       "      <th>Country Code</th>\n",
       "      <th>count</th>\n",
       "    </tr>\n",
       "  </thead>\n",
       "  <tbody>\n",
       "    <tr>\n",
       "      <th>0</th>\n",
       "      <td>ABW</td>\n",
       "      <td>1486</td>\n",
       "    </tr>\n",
       "    <tr>\n",
       "      <th>1</th>\n",
       "      <td>AFE</td>\n",
       "      <td>1486</td>\n",
       "    </tr>\n",
       "    <tr>\n",
       "      <th>2</th>\n",
       "      <td>AFG</td>\n",
       "      <td>1486</td>\n",
       "    </tr>\n",
       "    <tr>\n",
       "      <th>3</th>\n",
       "      <td>AFW</td>\n",
       "      <td>1486</td>\n",
       "    </tr>\n",
       "  </tbody>\n",
       "</table>\n",
       "</div>"
      ],
      "text/plain": [
       "  Country Code  count\n",
       "0          ABW   1486\n",
       "1          AFE   1486\n",
       "2          AFG   1486\n",
       "3          AFW   1486"
      ]
     },
     "execution_count": 124,
     "metadata": {},
     "output_type": "execute_result"
    }
   ],
   "source": [
    "base_path = \"../../data/input/\"\n",
    "df = spark.read.csv(base_path + \"WDIData.csv.bz2\", header=True, inferSchema=True)\n",
    "df.filter(\"`Country Code`='ARG'\").limit(10).toPandas()\n",
    "# df.show(3)\n",
    "df.groupBy(\"`Country Code`\").count().orderBy(\"`Country Code`\").toPandas().head(4)\n",
    "# df.columns"
   ]
  },
  {
   "cell_type": "code",
   "execution_count": 7,
   "id": "83db0e8e-34c7-4ed4-85a2-0caeca9a3440",
   "metadata": {},
   "outputs": [],
   "source": [
    "# df.printSchema()"
   ]
  },
  {
   "cell_type": "markdown",
   "id": "93619490-6e5b-436e-bc88-8d159d24a7d3",
   "metadata": {},
   "source": [
    "## Some checkings of the content"
   ]
  },
  {
   "cell_type": "code",
   "execution_count": 125,
   "id": "0edffb38-424f-4a81-8c43-97409c606d42",
   "metadata": {},
   "outputs": [
    {
     "name": "stdout",
     "output_type": "stream",
     "text": [
      "+------------+-----------------+----------------+----------------+\n",
      "|Country Code|Indicator Code   |2000            |2001            |\n",
      "+------------+-----------------+----------------+----------------+\n",
      "|ARG         |EG.ELC.ACCS.ZS   |95.6804733276367|95.5110634674458|\n",
      "|ARG         |NY.ADJ.NNTY.PC.CD|6430.93331567539|6002.28904723084|\n",
      "+------------+-----------------+----------------+----------------+\n",
      "\n"
     ]
    }
   ],
   "source": [
    "# Starting some data\n",
    "cols = [\n",
    "    \"Country Code\",\n",
    "    #\"Country Name\",\n",
    "    \"Indicator Code\",\n",
    "    #\"Indicator Name\",\n",
    "    \"2000\", \"2001\"\n",
    "]\n",
    "# df1 = df.select(cols).filter(\"\"\"\n",
    "#     (`Country Code`='ARG' or `Country Code`like 'URY' or `Country Code`like 'CHL') and \n",
    "#     (`Indicator Code` like 'NY.ADJ.NNTY.PC.CD' or `Indicator Code` like 'EG.ELC.ACCS.ZS')\n",
    "#         \"\"\").orderBy(\"Indicator Name\")\n",
    "\n",
    "df1 = df.select(cols).filter(\"\"\"\n",
    "    (`Country Code`='ARG') and \n",
    "    (`Indicator Code` like 'NY.ADJ.NNTY.PC.CD' or `Indicator Code` like 'EG.ELC.ACCS.ZS')\n",
    "        \"\"\").orderBy(\"Indicator Name\")\n",
    "\n",
    "df1.show(10, 0)"
   ]
  },
  {
   "cell_type": "code",
   "execution_count": 44,
   "id": "4586e548-d9f7-4fb0-988e-eef6f3c960ab",
   "metadata": {},
   "outputs": [
    {
     "name": "stdout",
     "output_type": "stream",
     "text": [
      "root\n",
      " |-- Country Code: string (nullable = true)\n",
      " |-- Indicator Code: string (nullable = true)\n",
      " |-- 2000: double (nullable = true)\n",
      " |-- 2001: double (nullable = true)\n",
      "\n"
     ]
    }
   ],
   "source": [
    "df1.printSchema()"
   ]
  },
  {
   "cell_type": "code",
   "execution_count": 57,
   "id": "8f83cf42-19c1-4d93-93fb-fa6a26649332",
   "metadata": {},
   "outputs": [
    {
     "name": "stdout",
     "output_type": "stream",
     "text": [
      "+------------+-----------------+----------------------------------------------------+\n",
      "|Country Code|Indicator Code   |values                                              |\n",
      "+------------+-----------------+----------------------------------------------------+\n",
      "|ARG         |EG.ELC.ACCS.ZS   |{2000 -> 95.6804733276367, 2001 -> 95.5110634674458}|\n",
      "|ARG         |NY.ADJ.NNTY.PC.CD|{2000 -> 6430.93331567539, 2001 -> 6002.28904723084}|\n",
      "+------------+-----------------+----------------------------------------------------+\n",
      "\n"
     ]
    }
   ],
   "source": [
    "import pyspark.sql.functions as F\n",
    "(df1\n",
    " .select(\n",
    "     \"Country Code\", \n",
    "     \"Indicator Code\",\n",
    "     F.create_map(\n",
    "         F.lit(\"2000\"), F.col(\"2000\"),\n",
    "         F.lit(\"2001\"), F.col(\"2001\")\n",
    "     ).alias(\"values\")\n",
    ").show(10, 0)"
   ]
  },
  {
   "cell_type": "code",
   "execution_count": 100,
   "id": "46b340ed",
   "metadata": {},
   "outputs": [
    {
     "name": "stdout",
     "output_type": "stream",
     "text": [
      "+------------+-----------------+----+----------------+\n",
      "|Country Code|Indicator Code   |year|value           |\n",
      "+------------+-----------------+----+----------------+\n",
      "|ARG         |EG.ELC.ACCS.ZS   |2000|95.6804733276367|\n",
      "|ARG         |EG.ELC.ACCS.ZS   |2001|95.5110634674458|\n",
      "|ARG         |NY.ADJ.NNTY.PC.CD|2000|6430.93331567539|\n",
      "|ARG         |NY.ADJ.NNTY.PC.CD|2001|6002.28904723084|\n",
      "+------------+-----------------+----+----------------+\n",
      "\n",
      "root\n",
      " |-- Country Code: string (nullable = true)\n",
      " |-- Indicator Code: string (nullable = true)\n",
      " |-- year: string (nullable = false)\n",
      " |-- value: double (nullable = true)\n",
      "\n"
     ]
    }
   ],
   "source": [
    "import pyspark.sql.functions as F\n",
    "df2 = (df1\n",
    " .select(\n",
    "     \"Country Code\", \n",
    "     \"Indicator Code\",\n",
    "     F.create_map(\n",
    "         F.lit(\"2000\"), F.col(\"2000\"),\n",
    "         F.lit(\"2001\"), F.col(\"2001\")\n",
    "     ).alias(\"values\")\n",
    " ).select(\"Country Code\", \"Indicator Code\", F.explode(\"values\")).withColumnRenamed('key', 'year')\n",
    ")\n",
    "\n",
    "df2.show(10, 0)\n",
    "df2.printSchema()"
   ]
  },
  {
   "cell_type": "markdown",
   "id": "9ee886c9-f555-49e6-acc6-a01ce59decce",
   "metadata": {},
   "source": [
    "Now, automating the columns creation"
   ]
  },
  {
   "cell_type": "code",
   "execution_count": 107,
   "id": "e0f6ece3-fced-4285-b93f-d046c9cbc138",
   "metadata": {},
   "outputs": [
    {
     "data": {
      "text/plain": [
       "[Column<'2000'>, Column<'2000'>, Column<'2001'>, Column<'2001'>]"
      ]
     },
     "execution_count": 107,
     "metadata": {},
     "output_type": "execute_result"
    }
   ],
   "source": [
    "def map_content(df):\n",
    "    columns = df.columns\n",
    "    r = []\n",
    "    for c in columns:\n",
    "        # we want to keep only the columns with a number (year) in its name.\n",
    "        if c.isnumeric():\n",
    "            r.append(F.lit(str(c)))\n",
    "            r.append(F.col(str(c)))\n",
    "    return r\n",
    "    \n",
    "map_content(df1)"
   ]
  },
  {
   "cell_type": "code",
   "execution_count": 109,
   "id": "637a50b1-0899-4777-8f6e-e9b1abcecce0",
   "metadata": {},
   "outputs": [
    {
     "name": "stdout",
     "output_type": "stream",
     "text": [
      "+------------+-----------------+----+----------------+\n",
      "|Country Code|Indicator Code   |year|value           |\n",
      "+------------+-----------------+----+----------------+\n",
      "|ARG         |EG.ELC.ACCS.ZS   |2000|95.6804733276367|\n",
      "|ARG         |EG.ELC.ACCS.ZS   |2001|95.5110634674458|\n",
      "|ARG         |NY.ADJ.NNTY.PC.CD|2000|6430.93331567539|\n",
      "|ARG         |NY.ADJ.NNTY.PC.CD|2001|6002.28904723084|\n",
      "+------------+-----------------+----+----------------+\n",
      "\n",
      "root\n",
      " |-- Country Code: string (nullable = true)\n",
      " |-- Indicator Code: string (nullable = true)\n",
      " |-- year: string (nullable = false)\n",
      " |-- value: double (nullable = true)\n",
      "\n"
     ]
    }
   ],
   "source": [
    "df2 = (df1\n",
    " .select(\n",
    "     \"Country Code\", \n",
    "     \"Indicator Code\",\n",
    "     F.create_map(*map_content(df1)).alias(\"values\")\n",
    " ).select(\"Country Code\", \"Indicator Code\", F.explode(\"values\")).withColumnRenamed('key', 'year')\n",
    ")\n",
    "\n",
    "df2.show(10, 0)\n",
    "df2.printSchema()"
   ]
  },
  {
   "cell_type": "markdown",
   "id": "1e95d2b8-665b-451f-b0e4-4797dbc7cf02",
   "metadata": {},
   "source": [
    "## Checking some of the countries"
   ]
  },
  {
   "cell_type": "code",
   "execution_count": 126,
   "id": "3aa82415-6ae6-473a-9e58-e0cc9ab39737",
   "metadata": {},
   "outputs": [
    {
     "name": "stdout",
     "output_type": "stream",
     "text": [
      "+------------+------------+-----------------+-----------------------------------------------------+\n",
      "|Country Name|Country Code|Indicator Code   |Indicator Name                                       |\n",
      "+------------+------------+-----------------+-----------------------------------------------------+\n",
      "|Argentina   |ARG         |NY.ADJ.NNTY.PC.CD|Adjusted net national income per capita (current US$)|\n",
      "|Chile       |CHL         |NY.ADJ.NNTY.PC.CD|Adjusted net national income per capita (current US$)|\n",
      "|Uruguay     |URY         |NY.ADJ.NNTY.PC.CD|Adjusted net national income per capita (current US$)|\n",
      "+------------+------------+-----------------+-----------------------------------------------------+\n",
      "\n"
     ]
    }
   ],
   "source": [
    "df1 = df.filter(\"(`Country Code`='ARG' or `Country Code`like 'URY' or `Country Code`like 'CHL') and `Indicator Code`='NY.ADJ.NNTY.PC.CD'\")\n",
    "df1.select(\"Country Name\", \"`Country Code`\", \"`Indicator Code`\", \"`Indicator Name`\").show(300, 0)"
   ]
  },
  {
   "cell_type": "code",
   "execution_count": 127,
   "id": "edadff02-b029-495b-a1fa-2aa62b34f4ab",
   "metadata": {},
   "outputs": [
    {
     "data": {
      "text/html": [
       "<div>\n",
       "<style scoped>\n",
       "    .dataframe tbody tr th:only-of-type {\n",
       "        vertical-align: middle;\n",
       "    }\n",
       "\n",
       "    .dataframe tbody tr th {\n",
       "        vertical-align: top;\n",
       "    }\n",
       "\n",
       "    .dataframe thead th {\n",
       "        text-align: right;\n",
       "    }\n",
       "</style>\n",
       "<table border=\"1\" class=\"dataframe\">\n",
       "  <thead>\n",
       "    <tr style=\"text-align: right;\">\n",
       "      <th></th>\n",
       "      <th>Country Name</th>\n",
       "      <th>Country Code</th>\n",
       "      <th>Indicator Name</th>\n",
       "      <th>Indicator Code</th>\n",
       "      <th>1960</th>\n",
       "      <th>1961</th>\n",
       "      <th>1962</th>\n",
       "      <th>1963</th>\n",
       "      <th>1964</th>\n",
       "      <th>1965</th>\n",
       "      <th>...</th>\n",
       "      <th>2014</th>\n",
       "      <th>2015</th>\n",
       "      <th>2016</th>\n",
       "      <th>2017</th>\n",
       "      <th>2018</th>\n",
       "      <th>2019</th>\n",
       "      <th>2020</th>\n",
       "      <th>2021</th>\n",
       "      <th>2022</th>\n",
       "      <th>_c67</th>\n",
       "    </tr>\n",
       "  </thead>\n",
       "  <tbody>\n",
       "    <tr>\n",
       "      <th>0</th>\n",
       "      <td>Argentina</td>\n",
       "      <td>ARG</td>\n",
       "      <td>Adjusted net national income per capita (curre...</td>\n",
       "      <td>NY.ADJ.NNTY.PC.CD</td>\n",
       "      <td>NaN</td>\n",
       "      <td>NaN</td>\n",
       "      <td>NaN</td>\n",
       "      <td>NaN</td>\n",
       "      <td>NaN</td>\n",
       "      <td>NaN</td>\n",
       "      <td>...</td>\n",
       "      <td>10265.670658</td>\n",
       "      <td>11761.781230</td>\n",
       "      <td>10865.789888</td>\n",
       "      <td>12578.146137</td>\n",
       "      <td>9879.584610</td>\n",
       "      <td>8244.068678</td>\n",
       "      <td>7211.541026</td>\n",
       "      <td>8993.547410</td>\n",
       "      <td>NaN</td>\n",
       "      <td>None</td>\n",
       "    </tr>\n",
       "    <tr>\n",
       "      <th>1</th>\n",
       "      <td>Chile</td>\n",
       "      <td>CHL</td>\n",
       "      <td>Adjusted net national income per capita (curre...</td>\n",
       "      <td>NY.ADJ.NNTY.PC.CD</td>\n",
       "      <td>NaN</td>\n",
       "      <td>NaN</td>\n",
       "      <td>NaN</td>\n",
       "      <td>NaN</td>\n",
       "      <td>NaN</td>\n",
       "      <td>NaN</td>\n",
       "      <td>...</td>\n",
       "      <td>11688.278247</td>\n",
       "      <td>11281.813072</td>\n",
       "      <td>11133.063386</td>\n",
       "      <td>11819.491877</td>\n",
       "      <td>12167.308446</td>\n",
       "      <td>11556.470339</td>\n",
       "      <td>9756.161448</td>\n",
       "      <td>11095.880284</td>\n",
       "      <td>NaN</td>\n",
       "      <td>None</td>\n",
       "    </tr>\n",
       "    <tr>\n",
       "      <th>2</th>\n",
       "      <td>Uruguay</td>\n",
       "      <td>URY</td>\n",
       "      <td>Adjusted net national income per capita (curre...</td>\n",
       "      <td>NY.ADJ.NNTY.PC.CD</td>\n",
       "      <td>NaN</td>\n",
       "      <td>NaN</td>\n",
       "      <td>NaN</td>\n",
       "      <td>NaN</td>\n",
       "      <td>NaN</td>\n",
       "      <td>NaN</td>\n",
       "      <td>...</td>\n",
       "      <td>14854.510424</td>\n",
       "      <td>14048.435558</td>\n",
       "      <td>14949.304683</td>\n",
       "      <td>16557.208784</td>\n",
       "      <td>16444.154738</td>\n",
       "      <td>15768.940291</td>\n",
       "      <td>13661.846748</td>\n",
       "      <td>14591.582026</td>\n",
       "      <td>NaN</td>\n",
       "      <td>None</td>\n",
       "    </tr>\n",
       "  </tbody>\n",
       "</table>\n",
       "<p>3 rows × 68 columns</p>\n",
       "</div>"
      ],
      "text/plain": [
       "  Country Name Country Code  \\\n",
       "0    Argentina          ARG   \n",
       "1        Chile          CHL   \n",
       "2      Uruguay          URY   \n",
       "\n",
       "                                      Indicator Name     Indicator Code  1960  \\\n",
       "0  Adjusted net national income per capita (curre...  NY.ADJ.NNTY.PC.CD   NaN   \n",
       "1  Adjusted net national income per capita (curre...  NY.ADJ.NNTY.PC.CD   NaN   \n",
       "2  Adjusted net national income per capita (curre...  NY.ADJ.NNTY.PC.CD   NaN   \n",
       "\n",
       "   1961  1962  1963  1964  1965  ...          2014          2015  \\\n",
       "0   NaN   NaN   NaN   NaN   NaN  ...  10265.670658  11761.781230   \n",
       "1   NaN   NaN   NaN   NaN   NaN  ...  11688.278247  11281.813072   \n",
       "2   NaN   NaN   NaN   NaN   NaN  ...  14854.510424  14048.435558   \n",
       "\n",
       "           2016          2017          2018          2019          2020  \\\n",
       "0  10865.789888  12578.146137   9879.584610   8244.068678   7211.541026   \n",
       "1  11133.063386  11819.491877  12167.308446  11556.470339   9756.161448   \n",
       "2  14949.304683  16557.208784  16444.154738  15768.940291  13661.846748   \n",
       "\n",
       "           2021  2022  _c67  \n",
       "0   8993.547410   NaN  None  \n",
       "1  11095.880284   NaN  None  \n",
       "2  14591.582026   NaN  None  \n",
       "\n",
       "[3 rows x 68 columns]"
      ]
     },
     "execution_count": 127,
     "metadata": {},
     "output_type": "execute_result"
    }
   ],
   "source": [
    "df1.limit(10).toPandas()"
   ]
  },
  {
   "cell_type": "code",
   "execution_count": 142,
   "id": "f1041f04-6e3f-4e89-b2c0-c1481e2b7dfd",
   "metadata": {},
   "outputs": [
    {
     "name": "stdout",
     "output_type": "stream",
     "text": [
      "+-----------------+---------------------------------------------------------------------------------------------------------------------------------------------+\n",
      "|Indicator Code   |Indicator Name                                                                                                                               |\n",
      "+-----------------+---------------------------------------------------------------------------------------------------------------------------------------------+\n",
      "|SI.POV.MDIM.HH   |Multidimensional poverty headcount ratio, household (% of total households)                                                                  |\n",
      "|SI.POV.MDIM      |Multidimensional poverty headcount ratio (% of total population)                                                                             |\n",
      "|SH.UHC.TOT2.ZS   |Proportion of population pushed or further pushed below the $3.65 ($ 2017 PPP) poverty line by out-of-pocket health care expenditure (%)     |\n",
      "|SH.UHC.TOTR.ZS   |Proportion of population pushed or further pushed below the 60% median consumption poverty line by out-of-pocket health expenditure (%)      |\n",
      "|SI.POV.MDIM.17.XQ|Multidimensional poverty index, children (population ages 0-17) (scale 0-1)                                                                  |\n",
      "|SH.UHC.FBP2.ZS   |Proportion of population pushed further below the $3.65 ($ 2017 PPP) poverty line by out-of-pocket health care expenditure (%)               |\n",
      "|SH.UHC.FBPR.ZS   |Proportion of population pushed further below the 60% median consumption poverty line by out-of-pocket health care expenditure (%)           |\n",
      "|SE.LPV.PRIM.FE   |Learning poverty: Share of Female Children at the End-of-Primary age below minimum reading proficiency adjusted by Out-of-School Children (%)|\n",
      "|SH.UHC.NOP1.ZS   |Proportion of population pushed below the $2.15 ($ 2017 PPP) poverty line by out-of-pocket health care expenditure (%)                       |\n",
      "|SI.POV.NAHC      |Poverty headcount ratio at national poverty lines (% of population)                                                                          |\n",
      "|SI.POV.MDIM.XQ   |Multidimensional poverty index (scale 0-1)                                                                                                   |\n",
      "|SE.LPV.PRIM      |Learning poverty: Share of Children at the End-of-Primary age below minimum reading proficiency adjusted by Out-of-School Children (%)       |\n",
      "|SI.POV.MDIM.FE   |Multidimensional poverty headcount ratio, female (% of female population)                                                                    |\n",
      "|SH.UHC.NOPR.ZS   |Proportion of population pushed below the 60% median consumption poverty line by out-of-pocket health expenditure (%)                        |\n",
      "|SE.LPV.PRIM.MA   |Learning poverty: Share of Male Children at the End-of-Primary age below minimum reading proficiency adjusted by Out-of-School Children (%)  |\n",
      "|SH.UHC.NOP2.ZS   |Proportion of population pushed below the $3.65 ($ 2017 PPP) poverty line by out-of-pocket health care expenditure (%)                       |\n",
      "|SH.UHC.FBP1.ZS   |Proportion of population pushed further below the $2.15 ($ 2017 PPP) poverty line by out-of-pocket health care expenditure (%)               |\n",
      "|SI.POV.MDIM.IT   |Multidimensional poverty intensity (average share of deprivations experienced by the poor)                                                   |\n",
      "|SH.UHC.TOT1.ZS   |Proportion of population pushed or further pushed below the $2.15 ($ 2017 PPP) poverty line by out-of-pocket health care expenditure (%)     |\n",
      "|SI.POV.MDIM.MA   |Multidimensional poverty headcount ratio, male (% of male population)                                                                        |\n",
      "|SI.POV.MDIM.17   |Multidimensional poverty headcount ratio, children (% of population ages 0-17)                                                               |\n",
      "+-----------------+---------------------------------------------------------------------------------------------------------------------------------------------+\n",
      "\n"
     ]
    }
   ],
   "source": [
    "# df.select(\"Indicator Name\").distinct().show(20, 0)\n",
    "df.select(\"Indicator Code\", \"Indicator Name\").where(\"`Indicator Name` like '%poverty%'\").distinct().show(200, 0)"
   ]
  },
  {
   "cell_type": "code",
   "execution_count": 146,
   "id": "7a962374-fd8f-4523-8296-32b7825611cd",
   "metadata": {},
   "outputs": [
    {
     "name": "stdout",
     "output_type": "stream",
     "text": [
      "+-----------------+--------+\n",
      "|Indicator Code   |count(1)|\n",
      "+-----------------+--------+\n",
      "|SI.POV.MDIM.FE   |1       |\n",
      "|SH.UHC.TOTR.ZS   |1       |\n",
      "|SH.UHC.TOT1.ZS   |1       |\n",
      "|SE.LPV.PRIM.FE   |1       |\n",
      "|SI.POV.MDIM.17   |1       |\n",
      "|SI.POV.MDIM.HH   |1       |\n",
      "|SH.UHC.FBP1.ZS   |1       |\n",
      "|SI.POV.MDIM.MA   |1       |\n",
      "|SI.POV.MDIM.XQ   |1       |\n",
      "|SH.UHC.NOPR.ZS   |1       |\n",
      "|SI.POV.MDIM      |1       |\n",
      "|SE.LPV.PRIM.MA   |1       |\n",
      "|SH.UHC.FBP2.ZS   |1       |\n",
      "|SI.POV.NAHC      |1       |\n",
      "|SH.UHC.TOT2.ZS   |1       |\n",
      "|SI.POV.MDIM.IT   |1       |\n",
      "|SH.UHC.NOP2.ZS   |1       |\n",
      "|SE.LPV.PRIM      |1       |\n",
      "|SH.UHC.NOP1.ZS   |1       |\n",
      "|SI.POV.MDIM.17.XQ|1       |\n",
      "+-----------------+--------+\n",
      "only showing top 20 rows\n",
      "\n"
     ]
    }
   ],
   "source": [
    "df.createOrReplaceTempView(\"WDIData\")\n",
    "spark.sql(\"\"\"\n",
    "    SELECT\n",
    "        `Indicator Code`, count(*)\n",
    "    FROM\n",
    "        WDIData\n",
    "    WHERE\n",
    "        `Country Code` = 'ARG'\n",
    "        AND `Indicator Name` like '%poverty%'\n",
    "    GROUP BY `Indicator Code`\n",
    "    ORDER BY 2 desc\n",
    "\"\"\").show(20, 0)"
   ]
  },
  {
   "cell_type": "markdown",
   "id": "9ae3b518-5722-41d7-88c3-416950e3ee85",
   "metadata": {},
   "source": [
    "## What about the rest of the files ?"
   ]
  },
  {
   "cell_type": "code",
   "execution_count": 113,
   "id": "1ec861ce-de99-4319-b6f1-e3fde1b1230b",
   "metadata": {},
   "outputs": [
    {
     "name": "stdout",
     "output_type": "stream",
     "text": [
      "total 114384\n",
      "-rw-r--r--  1 facundoradrizzani  staff   1053933 Dec 18 23:06 WDICountry-Series.csv\n",
      "-rw-r--r--  1 facundoradrizzani  staff    157219 Dec 18 23:06 WDICountry.csv\n",
      "-rw-r--r--  1 facundoradrizzani  staff  53327735 Dec 18 23:06 WDIData.csv.bz2\n",
      "-rw-r--r--  1 facundoradrizzani  staff     14917 Dec 18 23:06 WDISeries-Time.csv\n",
      "-rw-r--r--  1 facundoradrizzani  staff   3999671 Dec 18 23:06 WDISeries.csv\n"
     ]
    }
   ],
   "source": [
    "!ls -l ../../data/input/"
   ]
  },
  {
   "cell_type": "code",
   "execution_count": 121,
   "id": "0992a373-02e3-4e12-b24a-0e8f1a85eb73",
   "metadata": {},
   "outputs": [
    {
     "name": "stdout",
     "output_type": "stream",
     "text": [
      "+------------+--------------------+--------------------+-------------------+------------------------+-----------------+\n",
      "|Country Code|          Short Name|              Region|       Income Group|Latest population census|Latest trade data|\n",
      "+------------+--------------------+--------------------+-------------------+------------------------+-----------------+\n",
      "|         ATG| Antigua and Barbuda|Latin America & C...|        High income|                    2011|             2018|\n",
      "|         ARG|           Argentina|Latin America & C...|Upper middle income|         2020 (expected)|             2018|\n",
      "|         ABW|               Aruba|Latin America & C...|        High income|         2020 (expected)|             2018|\n",
      "|         BRB|            Barbados|Latin America & C...|        High income|         2020 (expected)|             2018|\n",
      "|         BLZ|              Belize|Latin America & C...|Upper middle income|         2020 (expected)|             2018|\n",
      "|         BOL|             Bolivia|Latin America & C...|Lower middle income|                    2012|             2018|\n",
      "|         BRA|              Brazil|Latin America & C...|Upper middle income|         2020 (expected)|             2018|\n",
      "|         VGB|British Virgin Is...|Latin America & C...|        High income|         2020 (expected)|             NULL|\n",
      "|         CYM|      Cayman Islands|Latin America & C...|        High income|         2020 (expected)|             2015|\n",
      "|         CHL|               Chile|Latin America & C...|        High income|                    2017|             2018|\n",
      "|         COL|            Colombia|Latin America & C...|Upper middle income|                    2018|             2018|\n",
      "|         CRI|          Costa Rica|Latin America & C...|Upper middle income|                    2011|             2018|\n",
      "|         CUB|                Cuba|Latin America & C...|Upper middle income|                    2012|             2006|\n",
      "|         CUW|             Curaçao|Latin America & C...|        High income|                    2011|             NULL|\n",
      "|         DMA|            Dominica|Latin America & C...|Upper middle income|                    2011|             2012|\n",
      "|         DOM|  Dominican Republic|Latin America & C...|Upper middle income|         2020 (expected)|             2017|\n",
      "|         ECU|             Ecuador|Latin America & C...|Upper middle income|         2020 (expected)|             2018|\n",
      "|         SLV|         El Salvador|Latin America & C...|Upper middle income|                    2007|             2018|\n",
      "|         GRD|             Grenada|Latin America & C...|Upper middle income|                    2011|             2009|\n",
      "|         GTM|           Guatemala|Latin America & C...|Upper middle income|                    2018|             2017|\n",
      "+------------+--------------------+--------------------+-------------------+------------------------+-----------------+\n",
      "only showing top 20 rows\n",
      "\n"
     ]
    }
   ],
   "source": [
    "# WDICountry creates a relation with groups for each country such as Income Groupe or Region, very useful for anlytics.\n",
    "WDICountry = spark.read.csv(base_path + \"WDICountry.csv\", header=True, inferSchema=True)\n",
    "WDICountry.select(\"Country Code\", \"Short Name\", \"Region\", \"Income Group\", \"Latest population census\", \"Latest trade data\").where(\"Region like '%Latin%'\").orderBy(\"Short Name\").show(20)"
   ]
  }
 ],
 "metadata": {
  "kernelspec": {
   "display_name": "Python 3 (ipykernel)",
   "language": "python",
   "name": "python3"
  },
  "language_info": {
   "codemirror_mode": {
    "name": "ipython",
    "version": 3
   },
   "file_extension": ".py",
   "mimetype": "text/x-python",
   "name": "python",
   "nbconvert_exporter": "python",
   "pygments_lexer": "ipython3",
   "version": "3.11.7"
  }
 },
 "nbformat": 4,
 "nbformat_minor": 5
}
